{
  "nbformat": 4,
  "nbformat_minor": 2,
  "metadata": {
    "colab": {
      "name": "Summer Olympics.ipynb",
      "provenance": [],
      "collapsed_sections": []
    },
    "kernelspec": {
      "name": "python3",
      "display_name": "Python 3"
    },
    "language_info": {
      "name": "python"
    }
  },
  "cells": [
    {
      "cell_type": "markdown",
      "source": [
        "Summer Olympics Data Analysis Assignment\r\n",
        "1. In how many cities Summer Olympics is held so far?"
      ],
      "metadata": {
        "id": "L5UGkLVNiBxD"
      }
    },
    {
      "cell_type": "code",
      "execution_count": null,
      "source": [
        "import pandas as pd\r\n",
        "\r\n",
        "df = pd.read_csv(\"summer.csv\")\r\n",
        "print(len(df[\"City\"].unique()))\r\n"
      ],
      "outputs": [
        {
          "output_type": "stream",
          "name": "stdout",
          "text": [
            "22\n"
          ]
        }
      ],
      "metadata": {
        "colab": {
          "base_uri": "https://localhost:8080/"
        },
        "id": "IZtZWVMRiGQx",
        "outputId": "5c792344-34f0-4255-be8c-05e56a6be2b1"
      }
    },
    {
      "cell_type": "markdown",
      "source": [
        "2. Which sport is having most number of Gold Medals so far? (Top 5)"
      ],
      "metadata": {
        "id": "tolJpsWrinOH"
      }
    },
    {
      "cell_type": "code",
      "execution_count": null,
      "source": [
        "data = []\r\n",
        "\r\n",
        "df_gold = df[df[\"Medal\"]==\"Gold\"]\r\n",
        "\r\n",
        "for Sport in df_gold[\"Sport\"].unique():\r\n",
        "    data.append([Sport, len(df_gold[df_gold[\"Sport\"]==Sport])])\r\n",
        "pd.DataFrame(data, columns=[\"Sport\", \"Gold Medal Freq\"]).sort_values(by = \"Gold Medal Freq\", ascending = False).head().plot.bar(x = \"Sport\", y = \"Gold Medal Freq\")\r\n",
        "\r\n"
      ],
      "outputs": [
        {
          "output_type": "execute_result",
          "data": {
            "text/plain": [
              "<matplotlib.axes._subplots.AxesSubplot at 0x7fdf97740cd0>"
            ]
          },
          "metadata": {},
          "execution_count": 29
        },
        {
          "output_type": "display_data",
          "data": {
            "image/png": "[encoded data removed]",
            "text/plain": [
              "<Figure size 432x288 with 1 Axes>"
            ]
          },
          "metadata": {
            "needs_background": "light"
          }
        }
      ],
      "metadata": {
        "colab": {
          "base_uri": "https://localhost:8080/",
          "height": 345
        },
        "id": "r7Ts02bke-jA",
        "outputId": "c99eaf6a-f91b-46ba-ecba-b9e70df49d00"
      }
    },
    {
      "cell_type": "markdown",
      "source": [
        "\n",
        "3. Which sport is having most number of medals so far? (Top 5)"
      ],
      "metadata": {
        "id": "xctZQ6mqmcQE"
      }
    },
    {
      "cell_type": "code",
      "execution_count": null,
      "source": [
        "data = []\r\n",
        "\r\n",
        "df_gold = df[df[\"Medal\"]==\"Gold\"]\r\n",
        "df_silver = df[df[\"Medal\"]==\"Silver\"]\r\n",
        "df_bronze = df[df[\"Medal\"]==\"Bronze\"]\r\n",
        "\r\n",
        "\r\n",
        "for Sport in df[\"Sport\"].unique():\r\n",
        "    data.append([Sport, len(df_gold[df_gold[\"Sport\"]==Sport])+len(df_silver[df_silver[\"Sport\"]==Sport])+len(df_bronze[df_bronze[\"Sport\"]==Sport])])\r\n",
        "pd.DataFrame(data, columns=[\"Sport\", \"Medal Freq\"]).sort_values(by = \"Medal Freq\", ascending = False).head().plot.bar(x = \"Sport\", y = \"Medal Freq\")\r\n",
        "\r\n",
        "\r\n",
        "\r\n"
      ],
      "outputs": [
        {
          "output_type": "execute_result",
          "data": {
            "text/plain": [
              "<matplotlib.axes._subplots.AxesSubplot at 0x7fdf9795dc50>"
            ]
          },
          "metadata": {},
          "execution_count": 27
        },
        {
          "output_type": "display_data",
          "data": {
            "image/png": "[encoded data removed]",
            "text/plain": [
              "<Figure size 432x288 with 1 Axes>"
            ]
          },
          "metadata": {
            "needs_background": "light"
          }
        }
      ],
      "metadata": {
        "colab": {
          "base_uri": "https://localhost:8080/",
          "height": 345
        },
        "id": "dGxY0jAgioDq",
        "outputId": "7a95912b-b01c-4bfe-b008-66456c361bcd"
      }
    },
    {
      "cell_type": "markdown",
      "source": [
        "4. Which player has won most number of medals? (Top 5)"
      ],
      "metadata": {
        "id": "7FSR5kBZkmhD"
      }
    },
    {
      "cell_type": "code",
      "execution_count": null,
      "source": [
        "data = []\r\n",
        "\r\n",
        "df_gold = df[df[\"Medal\"]==\"Gold\"]\r\n",
        "df_silver = df[df[\"Medal\"]==\"Silver\"]\r\n",
        "df_bronze = df[df[\"Medal\"]==\"Bronze\"]\r\n",
        "\r\n",
        "for a in df[\"Athlete\"].unique():\r\n",
        "  data.append([a, len(df_gold[df_gold[\"Athlete\"]==a]) + len(df_silver[df_silver[\"Athlete\"]==a]) + len(df_bronze[df_bronze[\"Athlete\"]==a])])\r\n",
        "pd.DataFrame(data, columns=[\"Athlete\", \"Medal Freq\"]).sort_values(by = \"Medal Freq\", ascending = False).head().plot.bar(x = \"Athlete\", y = \"Medal Freq\")"
      ],
      "outputs": [
        {
          "output_type": "execute_result",
          "data": {
            "text/plain": [
              "<matplotlib.axes._subplots.AxesSubplot at 0x7fdf977a3e10>"
            ]
          },
          "metadata": {},
          "execution_count": 26
        },
        {
          "output_type": "display_data",
          "data": {
            "image/png": "[encoded data removed]",
            "text/plain": [
              "<Figure size 432x288 with 1 Axes>"
            ]
          },
          "metadata": {
            "needs_background": "light"
          }
        }
      ],
      "metadata": {
        "id": "3TppEMGrkoSx",
        "colab": {
          "base_uri": "https://localhost:8080/",
          "height": 404
        },
        "outputId": "eaa0bf40-e976-4661-85d1-b9b0d578e757"
      }
    },
    {
      "cell_type": "markdown",
      "source": [
        " 5. Which player has won most number Gold Medals of medals? (Top 5)"
      ],
      "metadata": {
        "id": "H6KgBab4AD42"
      }
    },
    {
      "cell_type": "code",
      "execution_count": null,
      "source": [
        "data = []\r\n",
        "\r\n",
        "df_gold = df[df[\"Medal\"]==\"Gold\"]\r\n",
        "\r\n",
        "for a in df_gold[\"Athlete\"].unique():\r\n",
        "    data.append([a, len(df_gold[df_gold[\"Athlete\"]==a])])\r\n",
        "pd.DataFrame(data, columns=[\"Athlete\", \"Gold Medal Freq\"]).sort_values(by=\"Gold Medal Freq\", ascending = False).head().plot.bar(x = \"Athlete\", y = \"Gold Medal Freq\")\r\n"
      ],
      "outputs": [
        {
          "output_type": "execute_result",
          "data": {
            "text/plain": [
              "<matplotlib.axes._subplots.AxesSubplot at 0x7fdf978bcc90>"
            ]
          },
          "metadata": {},
          "execution_count": 25
        },
        {
          "output_type": "display_data",
          "data": {
            "image/png": "[encoded data removed]",
            "text/plain": [
              "<Figure size 432x288 with 1 Axes>"
            ]
          },
          "metadata": {
            "needs_background": "light"
          }
        }
      ],
      "metadata": {
        "colab": {
          "base_uri": "https://localhost:8080/",
          "height": 371
        },
        "id": "3dJXNIcI80v7",
        "outputId": "37ae83d8-e7d6-472d-c1b0-02a8a2e843d9"
      }
    },
    {
      "cell_type": "markdown",
      "source": [
        "6. In which year India won first Gold Medal in Summer Olympics?"
      ],
      "metadata": {
        "id": "BwU6-OYQ5AVp"
      }
    },
    {
      "cell_type": "code",
      "execution_count": null,
      "source": [
        "df_gold = df[df[\"Medal\"]==\"Gold\"]\r\n",
        "df_india = df_gold[df_gold[\"Country\"]==\"IND\"]\r\n",
        "print(df_india.head(1)[\"Year\"])\r\n",
        "\r\n"
      ],
      "outputs": [
        {
          "output_type": "stream",
          "name": "stdout",
          "text": [
            "5512    1928\n",
            "Name: Year, dtype: int64\n"
          ]
        }
      ],
      "metadata": {
        "colab": {
          "base_uri": "https://localhost:8080/"
        },
        "id": "OxybOHwi5BZN",
        "outputId": "7992ed09-a4c2-4a49-949c-7c4915c10914"
      }
    },
    {
      "cell_type": "markdown",
      "source": [
        "7. Which event is most popular in terms on number of players? (Top 5)"
      ],
      "metadata": {
        "id": "PRCWlGmF6WRR"
      }
    },
    {
      "cell_type": "code",
      "execution_count": null,
      "source": [
        "data = []\r\n",
        "\r\n",
        "for event in df[\"Event\"].unique():\r\n",
        "  data.append([event, len(df[df[\"Event\"]==event])])\r\n",
        "pd.DataFrame(data, columns = [\"Event\", \"Players\"]).sort_values(by = \"Players\", ascending = False).head().plot.bar(x = \"Event\", y = \"Players\")"
      ],
      "outputs": [
        {
          "output_type": "execute_result",
          "data": {
            "text/plain": [
              "<matplotlib.axes._subplots.AxesSubplot at 0x7fdf978f7750>"
            ]
          },
          "metadata": {},
          "execution_count": 23
        },
        {
          "output_type": "display_data",
          "data": {
            "image/png": "[encoded data removed]",
            "text/plain": [
              "<Figure size 432x288 with 1 Axes>"
            ]
          },
          "metadata": {
            "needs_background": "light"
          }
        }
      ],
      "metadata": {
        "colab": {
          "base_uri": "https://localhost:8080/",
          "height": 376
        },
        "id": "XWOTmV8U6XFE",
        "outputId": "fa76763d-f2ce-4a58-9987-3ccbd337ff03"
      }
    },
    {
      "cell_type": "markdown",
      "source": [
        "8. Which sport is having most female Gold Medalists? (Top 5)"
      ],
      "metadata": {
        "id": "HE8pXSJ57kIh"
      }
    },
    {
      "cell_type": "code",
      "execution_count": null,
      "source": [
        "df_gold = df[df[\"Medal\"]==\"Gold\"]\r\n",
        "df_wom = df_gold[df_gold[\"Gender\"]==\"Women\"]\r\n",
        "data = []\r\n",
        "for sport in df_wom[\"Sport\"].unique():\r\n",
        "  data.append([sport, len(df_wom[df_wom[\"Sport\"]==sport])])\r\n",
        "pd.DataFrame(data, columns = [\"Sport\", \"Freq\"]).sort_values(by = \"Freq\", ascending = False).head().plot.bar(x = \"Sport\", y = \"Freq\")"
      ],
      "outputs": [
        {
          "output_type": "execute_result",
          "data": {
            "text/plain": [
              "<matplotlib.axes._subplots.AxesSubplot at 0x7fdf97334910>"
            ]
          },
          "metadata": {},
          "execution_count": 38
        },
        {
          "output_type": "display_data",
          "data": {
            "image/png": "[encoded data removed]",
            "text/plain": [
              "<Figure size 432x288 with 1 Axes>"
            ]
          },
          "metadata": {
            "needs_background": "light"
          }
        }
      ],
      "metadata": {
        "colab": {
          "base_uri": "https://localhost:8080/",
          "height": 345
        },
        "id": "tAGeK0eA7k4L",
        "outputId": "4e3b1831-b386-4f46-8fa8-d0f78b4ead9a"
      }
    }
  ]
}